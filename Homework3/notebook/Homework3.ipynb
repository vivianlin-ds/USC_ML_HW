{
 "cells": [
  {
   "cell_type": "markdown",
   "metadata": {},
   "source": [
    "## Homework 3\n",
    "October 7, 2022<br>\n",
    "Vivian Lin<br>\n",
    "ID: 6043749830<br>\n",
    "Dr. Mohammad Rajati"
   ]
  },
  {
   "cell_type": "code",
   "execution_count": 1,
   "metadata": {},
   "outputs": [
    {
     "name": "stderr",
     "output_type": "stream",
     "text": [
      "/Users/vivianlin/opt/anaconda3/lib/python3.9/site-packages/scipy/__init__.py:146: UserWarning: A NumPy version >=1.16.5 and <1.23.0 is required for this version of SciPy (detected version 1.23.3\n",
      "  warnings.warn(f\"A NumPy version >={np_minversion} and <{np_maxversion}\"\n"
     ]
    }
   ],
   "source": [
    "import pandas as pd\n",
    "import numpy as np\n",
    "from scipy.stats import bootstrap\n",
    "from matplotlib import pyplot as plt"
   ]
  },
  {
   "cell_type": "markdown",
   "metadata": {},
   "source": [
    "<b>1. Time Series Classification Part 1: Feature Creation/Extraction<br>\n",
    "a) Download the AReM data from: https://archive.ics.uci.edu/ml/datasets/Activity+Recognition+system+based+on+Multisensor+data+fusion+\\%28AReM\\%29 <br>\n",
    "Frequency (Hz): 20\n",
    "Clock (millisecond): 250\n",
    "Duration (seconds): 120</b>"
   ]
  },
  {
   "cell_type": "code",
   "execution_count": 2,
   "metadata": {},
   "outputs": [
    {
     "name": "stdout",
     "output_type": "stream",
     "text": [
      "Data cleaning required in bending2: dataset4\n",
      "Data cleaning required in sitting: dataset8\n"
     ]
    }
   ],
   "source": [
    "# Read all 7 csv files in bending1 folder.\n",
    "bending1 = [\"dataset\" + str(x) for x in range(1, 8)]\n",
    "b1_df = []\n",
    "\n",
    "for i in range(len(bending1)):\n",
    "    temp = pd.read_csv(\"../data/AReM/bending1/\" + bending1[i] + \".csv\", skiprows=3, header=1)\n",
    "    temp.rename(columns={\"# Columns: time\": \"time\"}, inplace=True)\n",
    "    temp[\"type\"] = \"bending1\"\n",
    "    if temp.isnull().values.any() or temp.shape[0] != 480:\n",
    "        print(f\"Data cleaning required in bending1: {bending1[i]}\")\n",
    "    b1_df.append(temp)\n",
    "\n",
    "# Read all 6 csv files in bending1 folder.\n",
    "bending2 = [\"dataset\" + str(x) for x in range(1, 7)]\n",
    "b2_df = []\n",
    "\n",
    "for i in range(len(bending2)):\n",
    "    temp = pd.read_csv(\"../data/AReM/bending2/\" + bending2[i] + \".csv\", skiprows=3, header=1)\n",
    "    temp.rename(columns={\"# Columns: time\": \"time\"}, inplace=True)\n",
    "    temp[\"type\"] = \"bending2\"\n",
    "    if temp.isnull().values.any() or temp.shape[0] != 480:\n",
    "        print(f\"Data cleaning required in bending2: {bending2[i]}\")\n",
    "    b2_df.append(temp)\n",
    "\n",
    "# Read all 15 csv files in cycling folder.\n",
    "# Manual data cleaning to remove extra comma at end of cycling dataset9 and dataset14.\n",
    "cycling = [\"dataset\" + str(x) for x in range(1, 16)]\n",
    "c_df = []\n",
    "\n",
    "for i in range(len(cycling)):\n",
    "    temp = pd.read_csv(\"../data/AReM/cycling/\" + cycling[i] + \".csv\", skiprows=3, header=1)\n",
    "    temp.rename(columns={\"# Columns: time\": \"time\"}, inplace=True)\n",
    "    temp[\"type\"] = \"cycling\"\n",
    "    if temp.isnull().values.any() or temp.shape[0] != 480:\n",
    "        print(f\"Data cleaning required in cycling: {cycling[i]}\")\n",
    "    c_df.append(temp)\n",
    "\n",
    "# Read all 15 csv files in lying folder.\n",
    "lying = [\"dataset\" + str(x) for x in range(1, 16)]\n",
    "l_df = []\n",
    "\n",
    "for i in range(len(lying)):\n",
    "    temp = pd.read_csv(\"../data/AReM/lying/\" + lying[i] + \".csv\", skiprows=3, header=1)\n",
    "    temp.rename(columns={\"# Columns: time\": \"time\"}, inplace=True)\n",
    "    temp[\"type\"] = \"lying\"\n",
    "    if temp.isnull().values.any() or temp.shape[0] != 480:\n",
    "        print(f\"Data cleaning required in lying: {lying[i]}\")\n",
    "    l_df.append(temp)\n",
    "\n",
    "# Read all 15 csv files in sitting folder.\n",
    "sitting = [\"dataset\" + str(x) for x in range(1, 16)]\n",
    "si_df = []\n",
    "\n",
    "for i in range(len(sitting)):\n",
    "    temp = pd.read_csv(\"../data/AReM/sitting/\" + sitting[i] + \".csv\", skiprows=3, header=1)\n",
    "    temp.rename(columns={\"# Columns: time\": \"time\"}, inplace=True)\n",
    "    temp[\"type\"] = \"sitting\"\n",
    "    if temp.isnull().values.any() or temp.shape[0] != 480:\n",
    "        print(f\"Data cleaning required in sitting: {sitting[i]}\")\n",
    "    si_df.append(temp)\n",
    "\n",
    "# Read all 15 csv files in standing folder.\n",
    "standing = [\"dataset\" + str(x) for x in range(1, 16)]\n",
    "st_df = []\n",
    "\n",
    "for i in range(len(standing)):\n",
    "    temp = pd.read_csv(\"../data/AReM/standing/\" + standing[i] + \".csv\", skiprows=3, header=1)\n",
    "    temp.rename(columns={\"# Columns: time\": \"time\"}, inplace=True)\n",
    "    temp[\"type\"] = \"standing\"\n",
    "    if temp.isnull().values.any() or temp.shape[0] != 480:\n",
    "        print(f\"Data cleaning required in standing: {standing[i]}\")\n",
    "    st_df.append(temp)\n",
    "\n",
    "# Read all 15 csv files in walking folder.\n",
    "walking = [\"dataset\" + str(x) for x in range(1, 16)]\n",
    "w_df = []\n",
    "\n",
    "for i in range(len(walking)):\n",
    "    temp = pd.read_csv(\"../data/AReM/walking/\" + walking[i] + \".csv\", skiprows=3, header=1)\n",
    "    temp.rename(columns={\"# Columns: time\": \"time\"}, inplace=True)\n",
    "    temp[\"type\"] = \"walking\"\n",
    "    if temp.isnull().values.any() or temp.shape[0] != 480:\n",
    "        print(f\"Data cleaning required in walking: {walking[i]}\")\n",
    "    w_df.append(temp)\n"
   ]
  },
  {
   "cell_type": "code",
   "execution_count": 3,
   "metadata": {},
   "outputs": [
    {
     "name": "stdout",
     "output_type": "stream",
     "text": [
      "False\n",
      "False\n"
     ]
    },
    {
     "data": {
      "text/plain": [
       "(479, 8)"
      ]
     },
     "execution_count": 3,
     "metadata": {},
     "output_type": "execute_result"
    }
   ],
   "source": [
    "# Data clean for bending2 dataset4\n",
    "# Manually cleaned up bending2 dataset4 such that the header row matches the rest of the data (white-space separated).\n",
    "temp = pd.read_csv(\"../data/AReM/bending2/dataset4.csv\", delim_whitespace=True)\n",
    "temp.rename(columns={\"# Columns: time\": \"time\"}, inplace=True)\n",
    "temp[\"type\"] = \"bending2\"\n",
    "print(temp.isnull().values.any())\n",
    "print(temp.shape[0] != 480)\n",
    "b2_df[3] = temp\n",
    "\n",
    "# Data clean is not required for sitting dataset8 since it is missing one row, making this the only dataframe with 479 rows instead of 480.\n",
    "si_df[7].shape"
   ]
  },
  {
   "cell_type": "markdown",
   "metadata": {},
   "source": [
    "<b>b) Keep datasets 1 and 2 in folders bending1 and bending 2, as well as datasets 1, 2, and 3 in other folders as test data and other datasets as train data.<b>"
   ]
  },
  {
   "cell_type": "code",
   "execution_count": 4,
   "metadata": {},
   "outputs": [
    {
     "name": "stdout",
     "output_type": "stream",
     "text": [
      "19 69\n"
     ]
    }
   ],
   "source": [
    "test = []\n",
    "train = []\n",
    "\n",
    "# For bending1 and bending2, only dataset1 and dataset2 are test data.\n",
    "df_name = [b1_df, b2_df]\n",
    "dataset = [0, 1]\n",
    "for name in df_name:\n",
    "    for i in range(len(name)):\n",
    "        if i in dataset:\n",
    "            test.append(name[i])\n",
    "        else:\n",
    "            train.append(name[i])\n",
    "\n",
    "# For the rest, dataset1, dataset2, and dataset3 are test data.\n",
    "df_name = [c_df, l_df, si_df, st_df, w_df]\n",
    "dataset = [0, 1, 2]\n",
    "for name in df_name:\n",
    "    for i in range(len(name)):\n",
    "        if i in dataset:\n",
    "            test.append(name[i])\n",
    "        else:\n",
    "            train.append(name[i])\n",
    "\n",
    "print(len(test), len(train))"
   ]
  },
  {
   "cell_type": "markdown",
   "metadata": {},
   "source": [
    "<b>c) Feature Extraction: Classification of time series usually needs extracting features from them. In this problem, we focus on time-domain features.<br>\n",
    "ci) Research what types of time-domain features are usually used in time series classification and list them (examples are minimum, maximum, mean, etc)</b>"
   ]
  },
  {
   "cell_type": "code",
   "execution_count": 5,
   "metadata": {},
   "outputs": [
    {
     "name": "stdout",
     "output_type": "stream",
     "text": [
      "Ans: According to Refernce #1, simple statistical features, such as minimum, maximum, mean, median, and standard deviation are commonly used. In addition, frequency and variance are also common features used in time series classification.\n",
      "Upon further research, Reference #2 states that feature extraction in time series classification uses \"correlation structure, distribution, entropy, stationarity and scaling properties\" that are derived using scientific time series analysis.\n"
     ]
    }
   ],
   "source": [
    "print(\"Ans: According to Refernce #1, simple statistical features, such as minimum, maximum, mean, median, and standard deviation are commonly used. In addition, frequency and variance are also common features used in time series classification.\")\n",
    "print(\"Upon further research, Reference #2 states that feature extraction in time series classification uses \\\"correlation structure, distribution, entropy, stationarity and scaling properties\\\" that are derived using scientific time series analysis.\")"
   ]
  },
  {
   "cell_type": "markdown",
   "metadata": {},
   "source": [
    "<b>cii) Extract time-domain features min, max, mean, median, stdev, first quartile, and third quartile for all 6 time series in each instance. Free to normalize/standardize features or use them directly.<br>\n",
    "Using features directly:</b>"
   ]
  },
  {
   "cell_type": "code",
   "execution_count": 6,
   "metadata": {},
   "outputs": [],
   "source": [
    "data_name = [b1_df, b2_df, c_df, l_df, si_df, st_df, w_df]\n",
    "\n",
    "min1, min2, min3, min4, min5, min6 = [], [], [], [], [], []\n",
    "max1, max2, max3, max4, max5, max6 = [], [], [], [], [], []\n",
    "mean1, mean2, mean3, mean4, mean5, mean6  = [], [], [], [], [], []\n",
    "med1, med2, med3, med4, med5, med6 = [], [], [], [], [], []\n",
    "stdev1, stdev2, stdev3, stdev4, stdev5, stdev6 = [], [], [], [], [], []\n",
    "fq1, fq2, fq3, fq4, fq5, fq6 = [], [], [], [], [], []\n",
    "tq1, tq2, tq3, tq4, tq5, tq6 = [], [], [], [], [], []\n",
    "type_df = []\n",
    "instance = [x for x in range(1, 89)]\n",
    "\n",
    "# Loop through all 7 folders.\n",
    "for name in data_name:\n",
    "    # Loop through all 88 instances.\n",
    "        for i in range(len(name)):\n",
    "            type_df.append(name[i]['type'][0])\n",
    "            \n",
    "            # Extract all means.\n",
    "            mean1.append(name[i].describe().iloc[1, 1])\n",
    "            mean2.append(name[i].describe().iloc[1, 2])\n",
    "            mean3.append(name[i].describe().iloc[1, 3])\n",
    "            mean4.append(name[i].describe().iloc[1, 4])\n",
    "            mean5.append(name[i].describe().iloc[1, 5])\n",
    "            mean6.append(name[i].describe().iloc[1, 6])\n",
    "\n",
    "            # Extract all std.\n",
    "            stdev1.append(name[i].describe().iloc[2, 1])\n",
    "            stdev2.append(name[i].describe().iloc[2, 2])\n",
    "            stdev3.append(name[i].describe().iloc[2, 3])\n",
    "            stdev4.append(name[i].describe().iloc[2, 4])\n",
    "            stdev5.append(name[i].describe().iloc[2, 5])\n",
    "            stdev6.append(name[i].describe().iloc[2, 6])\n",
    "            \n",
    "            # Extract all minimums.\n",
    "            min1.append(name[i].describe().iloc[3, 1])\n",
    "            min2.append(name[i].describe().iloc[3, 2])\n",
    "            min3.append(name[i].describe().iloc[3, 3])\n",
    "            min4.append(name[i].describe().iloc[3, 4])\n",
    "            min5.append(name[i].describe().iloc[3, 5])\n",
    "            min6.append(name[i].describe().iloc[3, 6])\n",
    "            \n",
    "            # Extract all 1st quartiles.\n",
    "            fq1.append(name[i].describe().iloc[4, 1])\n",
    "            fq2.append(name[i].describe().iloc[4, 2])\n",
    "            fq3.append(name[i].describe().iloc[4, 3])\n",
    "            fq4.append(name[i].describe().iloc[4, 4])\n",
    "            fq5.append(name[i].describe().iloc[4, 5])\n",
    "            fq6.append(name[i].describe().iloc[4, 6])\n",
    "\n",
    "            # Extract all medians.\n",
    "            med1.append(name[i].describe().iloc[5, 1])\n",
    "            med2.append(name[i].describe().iloc[5, 2])\n",
    "            med3.append(name[i].describe().iloc[5, 3])\n",
    "            med4.append(name[i].describe().iloc[5, 4])\n",
    "            med5.append(name[i].describe().iloc[5, 5])\n",
    "            med6.append(name[i].describe().iloc[5, 6])\n",
    "\n",
    "            # Extract all 1st quartiles.\n",
    "            tq1.append(name[i].describe().iloc[6, 1])\n",
    "            tq2.append(name[i].describe().iloc[6, 2])\n",
    "            tq3.append(name[i].describe().iloc[6, 3])\n",
    "            tq4.append(name[i].describe().iloc[6, 4])\n",
    "            tq5.append(name[i].describe().iloc[6, 5])\n",
    "            tq6.append(name[i].describe().iloc[6, 6])\n",
    "\n",
    "            # Extract all maximums.\n",
    "            max1.append(name[i].describe().iloc[7, 1])\n",
    "            max2.append(name[i].describe().iloc[7, 2])\n",
    "            max3.append(name[i].describe().iloc[7, 3])\n",
    "            max4.append(name[i].describe().iloc[7, 4])\n",
    "            max5.append(name[i].describe().iloc[7, 5])\n",
    "            max6.append(name[i].describe().iloc[7, 6])\n",
    "\n"
   ]
  },
  {
   "cell_type": "code",
   "execution_count": 7,
   "metadata": {},
   "outputs": [
    {
     "name": "stdout",
     "output_type": "stream",
     "text": [
      "(88, 43)\n"
     ]
    },
    {
     "data": {
      "text/html": [
       "<div>\n",
       "<style scoped>\n",
       "    .dataframe tbody tr th:only-of-type {\n",
       "        vertical-align: middle;\n",
       "    }\n",
       "\n",
       "    .dataframe tbody tr th {\n",
       "        vertical-align: top;\n",
       "    }\n",
       "\n",
       "    .dataframe thead th {\n",
       "        text-align: right;\n",
       "    }\n",
       "</style>\n",
       "<table border=\"1\" class=\"dataframe\">\n",
       "  <thead>\n",
       "    <tr style=\"text-align: right;\">\n",
       "      <th></th>\n",
       "      <th>min1</th>\n",
       "      <th>max1</th>\n",
       "      <th>mean1</th>\n",
       "      <th>median1</th>\n",
       "      <th>stdev1</th>\n",
       "      <th>1st quart1</th>\n",
       "      <th>3rd quart1</th>\n",
       "      <th>min2</th>\n",
       "      <th>max2</th>\n",
       "      <th>mean2</th>\n",
       "      <th>...</th>\n",
       "      <th>1st quart5</th>\n",
       "      <th>3rd quart5</th>\n",
       "      <th>min6</th>\n",
       "      <th>max6</th>\n",
       "      <th>mean6</th>\n",
       "      <th>median6</th>\n",
       "      <th>stdev6</th>\n",
       "      <th>1st quart6</th>\n",
       "      <th>3rd quart6</th>\n",
       "      <th>type</th>\n",
       "    </tr>\n",
       "    <tr>\n",
       "      <th>instance</th>\n",
       "      <th></th>\n",
       "      <th></th>\n",
       "      <th></th>\n",
       "      <th></th>\n",
       "      <th></th>\n",
       "      <th></th>\n",
       "      <th></th>\n",
       "      <th></th>\n",
       "      <th></th>\n",
       "      <th></th>\n",
       "      <th></th>\n",
       "      <th></th>\n",
       "      <th></th>\n",
       "      <th></th>\n",
       "      <th></th>\n",
       "      <th></th>\n",
       "      <th></th>\n",
       "      <th></th>\n",
       "      <th></th>\n",
       "      <th></th>\n",
       "      <th></th>\n",
       "    </tr>\n",
       "  </thead>\n",
       "  <tbody>\n",
       "    <tr>\n",
       "      <th>1</th>\n",
       "      <td>37.25</td>\n",
       "      <td>45.00</td>\n",
       "      <td>40.624792</td>\n",
       "      <td>40.50</td>\n",
       "      <td>1.476967</td>\n",
       "      <td>39.25</td>\n",
       "      <td>42.00</td>\n",
       "      <td>0.0</td>\n",
       "      <td>1.30</td>\n",
       "      <td>0.358604</td>\n",
       "      <td>...</td>\n",
       "      <td>33.0000</td>\n",
       "      <td>36.00</td>\n",
       "      <td>0.0</td>\n",
       "      <td>1.92</td>\n",
       "      <td>0.570583</td>\n",
       "      <td>0.43</td>\n",
       "      <td>0.582915</td>\n",
       "      <td>0.0</td>\n",
       "      <td>1.30</td>\n",
       "      <td>bending1</td>\n",
       "    </tr>\n",
       "    <tr>\n",
       "      <th>2</th>\n",
       "      <td>38.00</td>\n",
       "      <td>45.67</td>\n",
       "      <td>42.812812</td>\n",
       "      <td>42.50</td>\n",
       "      <td>1.435550</td>\n",
       "      <td>42.00</td>\n",
       "      <td>43.67</td>\n",
       "      <td>0.0</td>\n",
       "      <td>1.22</td>\n",
       "      <td>0.372437</td>\n",
       "      <td>...</td>\n",
       "      <td>32.0000</td>\n",
       "      <td>34.50</td>\n",
       "      <td>0.0</td>\n",
       "      <td>3.11</td>\n",
       "      <td>0.571083</td>\n",
       "      <td>0.43</td>\n",
       "      <td>0.601010</td>\n",
       "      <td>0.0</td>\n",
       "      <td>1.30</td>\n",
       "      <td>bending1</td>\n",
       "    </tr>\n",
       "    <tr>\n",
       "      <th>3</th>\n",
       "      <td>35.00</td>\n",
       "      <td>47.40</td>\n",
       "      <td>43.954500</td>\n",
       "      <td>44.33</td>\n",
       "      <td>1.558835</td>\n",
       "      <td>43.00</td>\n",
       "      <td>45.00</td>\n",
       "      <td>0.0</td>\n",
       "      <td>1.70</td>\n",
       "      <td>0.426250</td>\n",
       "      <td>...</td>\n",
       "      <td>35.3625</td>\n",
       "      <td>36.50</td>\n",
       "      <td>0.0</td>\n",
       "      <td>1.79</td>\n",
       "      <td>0.493292</td>\n",
       "      <td>0.43</td>\n",
       "      <td>0.513506</td>\n",
       "      <td>0.0</td>\n",
       "      <td>0.94</td>\n",
       "      <td>bending1</td>\n",
       "    </tr>\n",
       "    <tr>\n",
       "      <th>4</th>\n",
       "      <td>33.00</td>\n",
       "      <td>47.75</td>\n",
       "      <td>42.179812</td>\n",
       "      <td>43.50</td>\n",
       "      <td>3.670666</td>\n",
       "      <td>39.15</td>\n",
       "      <td>45.00</td>\n",
       "      <td>0.0</td>\n",
       "      <td>3.00</td>\n",
       "      <td>0.696042</td>\n",
       "      <td>...</td>\n",
       "      <td>30.4575</td>\n",
       "      <td>36.33</td>\n",
       "      <td>0.0</td>\n",
       "      <td>2.18</td>\n",
       "      <td>0.613521</td>\n",
       "      <td>0.50</td>\n",
       "      <td>0.524317</td>\n",
       "      <td>0.0</td>\n",
       "      <td>1.00</td>\n",
       "      <td>bending1</td>\n",
       "    </tr>\n",
       "    <tr>\n",
       "      <th>5</th>\n",
       "      <td>33.00</td>\n",
       "      <td>45.75</td>\n",
       "      <td>41.678063</td>\n",
       "      <td>41.75</td>\n",
       "      <td>2.243490</td>\n",
       "      <td>41.33</td>\n",
       "      <td>42.75</td>\n",
       "      <td>0.0</td>\n",
       "      <td>2.83</td>\n",
       "      <td>0.535979</td>\n",
       "      <td>...</td>\n",
       "      <td>28.4575</td>\n",
       "      <td>31.25</td>\n",
       "      <td>0.0</td>\n",
       "      <td>1.79</td>\n",
       "      <td>0.383292</td>\n",
       "      <td>0.43</td>\n",
       "      <td>0.389164</td>\n",
       "      <td>0.0</td>\n",
       "      <td>0.50</td>\n",
       "      <td>bending1</td>\n",
       "    </tr>\n",
       "  </tbody>\n",
       "</table>\n",
       "<p>5 rows × 43 columns</p>\n",
       "</div>"
      ],
      "text/plain": [
       "           min1   max1      mean1  median1    stdev1  1st quart1  3rd quart1  \\\n",
       "instance                                                                       \n",
       "1         37.25  45.00  40.624792    40.50  1.476967       39.25       42.00   \n",
       "2         38.00  45.67  42.812812    42.50  1.435550       42.00       43.67   \n",
       "3         35.00  47.40  43.954500    44.33  1.558835       43.00       45.00   \n",
       "4         33.00  47.75  42.179812    43.50  3.670666       39.15       45.00   \n",
       "5         33.00  45.75  41.678063    41.75  2.243490       41.33       42.75   \n",
       "\n",
       "          min2  max2     mean2  ...  1st quart5  3rd quart5  min6  max6  \\\n",
       "instance                        ...                                       \n",
       "1          0.0  1.30  0.358604  ...     33.0000       36.00   0.0  1.92   \n",
       "2          0.0  1.22  0.372437  ...     32.0000       34.50   0.0  3.11   \n",
       "3          0.0  1.70  0.426250  ...     35.3625       36.50   0.0  1.79   \n",
       "4          0.0  3.00  0.696042  ...     30.4575       36.33   0.0  2.18   \n",
       "5          0.0  2.83  0.535979  ...     28.4575       31.25   0.0  1.79   \n",
       "\n",
       "             mean6  median6    stdev6  1st quart6  3rd quart6      type  \n",
       "instance                                                                 \n",
       "1         0.570583     0.43  0.582915         0.0        1.30  bending1  \n",
       "2         0.571083     0.43  0.601010         0.0        1.30  bending1  \n",
       "3         0.493292     0.43  0.513506         0.0        0.94  bending1  \n",
       "4         0.613521     0.50  0.524317         0.0        1.00  bending1  \n",
       "5         0.383292     0.43  0.389164         0.0        0.50  bending1  \n",
       "\n",
       "[5 rows x 43 columns]"
      ]
     },
     "execution_count": 7,
     "metadata": {},
     "output_type": "execute_result"
    }
   ],
   "source": [
    "td_dict = {'instance': instance, 'min1': min1, 'max1': max1, 'mean1': mean1, 'median1': med1, 'stdev1': stdev1, '1st quart1': fq1, '3rd quart1': tq1,\n",
    "            'min2': min2, 'max2': max2, 'mean2': mean2, 'median2': med2, 'stdev2': stdev2, '1st quart2': fq2, '3rd quart2': tq2,\n",
    "            'min3': min3, 'max3': max3, 'mean3': mean3, 'median3': med3, 'stdev3': stdev3, '1st quart3': fq3, '3rd quart3': tq3,\n",
    "            'min4': min4, 'max4': max4, 'mean4': mean4, 'median4': med4, 'stdev4': stdev4, '1st quart4': fq4, '3rd quart4': tq4,\n",
    "            'min5': min5, 'max5': max5, 'mean5': mean5, 'median5': med5, 'stdev5': stdev5, '1st quart5': fq5, '3rd quart5': tq5,\n",
    "            'min6': min6, 'max6': max6, 'mean6': mean6, 'median6': med6, 'stdev6': stdev6, '1st quart6': fq6, '3rd quart6': tq6, 'type': type_df\n",
    "        }\n",
    "td_features = pd.DataFrame(data=td_dict)\n",
    "td_features.set_index('instance', inplace=True)\n",
    "print(td_features.shape)\n",
    "td_features.head(5)\n"
   ]
  },
  {
   "cell_type": "markdown",
   "metadata": {},
   "source": [
    "<b>ciii) Estimate standard deviation of each of the time-domain features you extracted from the data. Then, use Python's bootstrapped or any other method to build a 90% bootstrap confidence interval for the standard deviation of each feature.</b>"
   ]
  },
  {
   "cell_type": "code",
   "execution_count": 8,
   "metadata": {},
   "outputs": [],
   "source": [
    "# Standard deviation of each time-domain features extracted.\n",
    "std_features = td_features.iloc[:,:44].describe().iloc[2]"
   ]
  },
  {
   "cell_type": "code",
   "execution_count": 9,
   "metadata": {},
   "outputs": [
    {
     "data": {
      "text/html": [
       "<div>\n",
       "<style scoped>\n",
       "    .dataframe tbody tr th:only-of-type {\n",
       "        vertical-align: middle;\n",
       "    }\n",
       "\n",
       "    .dataframe tbody tr th {\n",
       "        vertical-align: top;\n",
       "    }\n",
       "\n",
       "    .dataframe thead th {\n",
       "        text-align: right;\n",
       "    }\n",
       "</style>\n",
       "<table border=\"1\" class=\"dataframe\">\n",
       "  <thead>\n",
       "    <tr style=\"text-align: right;\">\n",
       "      <th></th>\n",
       "      <th>min1</th>\n",
       "      <th>max1</th>\n",
       "      <th>mean1</th>\n",
       "      <th>median1</th>\n",
       "      <th>stdev1</th>\n",
       "      <th>1st quart1</th>\n",
       "      <th>3rd quart1</th>\n",
       "      <th>min2</th>\n",
       "      <th>max2</th>\n",
       "      <th>mean2</th>\n",
       "      <th>...</th>\n",
       "      <th>stdev5</th>\n",
       "      <th>1st quart5</th>\n",
       "      <th>3rd quart5</th>\n",
       "      <th>min6</th>\n",
       "      <th>max6</th>\n",
       "      <th>mean6</th>\n",
       "      <th>median6</th>\n",
       "      <th>stdev6</th>\n",
       "      <th>1st quart6</th>\n",
       "      <th>3rd quart6</th>\n",
       "    </tr>\n",
       "  </thead>\n",
       "  <tbody>\n",
       "    <tr>\n",
       "      <th>CI_low</th>\n",
       "      <td>8.307559</td>\n",
       "      <td>3.488035</td>\n",
       "      <td>4.758897</td>\n",
       "      <td>4.842326</td>\n",
       "      <td>1.584153</td>\n",
       "      <td>5.623722</td>\n",
       "      <td>4.412103</td>\n",
       "      <td>0.0</td>\n",
       "      <td>4.696349</td>\n",
       "      <td>1.432853</td>\n",
       "      <td>...</td>\n",
       "      <td>0.828155</td>\n",
       "      <td>4.951536</td>\n",
       "      <td>4.535758</td>\n",
       "      <td>0.013125</td>\n",
       "      <td>2.261717</td>\n",
       "      <td>1.088287</td>\n",
       "      <td>1.018704</td>\n",
       "      <td>0.487440</td>\n",
       "      <td>0.704335</td>\n",
       "      <td>1.436098</td>\n",
       "    </tr>\n",
       "    <tr>\n",
       "      <th>CI_high</th>\n",
       "      <td>10.824409</td>\n",
       "      <td>5.405040</td>\n",
       "      <td>5.924526</td>\n",
       "      <td>6.045080</td>\n",
       "      <td>1.958548</td>\n",
       "      <td>6.692874</td>\n",
       "      <td>5.912338</td>\n",
       "      <td>0.0</td>\n",
       "      <td>5.463165</td>\n",
       "      <td>1.740340</td>\n",
       "      <td>...</td>\n",
       "      <td>1.232952</td>\n",
       "      <td>7.366739</td>\n",
       "      <td>6.672400</td>\n",
       "      <td>0.091154</td>\n",
       "      <td>2.776781</td>\n",
       "      <td>1.241826</td>\n",
       "      <td>1.172491</td>\n",
       "      <td>0.553985</td>\n",
       "      <td>0.822102</td>\n",
       "      <td>1.634276</td>\n",
       "    </tr>\n",
       "    <tr>\n",
       "      <th>std</th>\n",
       "      <td>9.569975</td>\n",
       "      <td>4.394362</td>\n",
       "      <td>5.335718</td>\n",
       "      <td>5.440054</td>\n",
       "      <td>1.772153</td>\n",
       "      <td>6.153590</td>\n",
       "      <td>5.138925</td>\n",
       "      <td>0.0</td>\n",
       "      <td>5.062729</td>\n",
       "      <td>1.574164</td>\n",
       "      <td>...</td>\n",
       "      <td>1.024898</td>\n",
       "      <td>6.096465</td>\n",
       "      <td>5.531720</td>\n",
       "      <td>0.045838</td>\n",
       "      <td>2.518921</td>\n",
       "      <td>1.154812</td>\n",
       "      <td>1.086474</td>\n",
       "      <td>0.517617</td>\n",
       "      <td>0.758584</td>\n",
       "      <td>1.523599</td>\n",
       "    </tr>\n",
       "  </tbody>\n",
       "</table>\n",
       "<p>3 rows × 42 columns</p>\n",
       "</div>"
      ],
      "text/plain": [
       "              min1      max1     mean1   median1    stdev1  1st quart1  \\\n",
       "CI_low    8.307559  3.488035  4.758897  4.842326  1.584153    5.623722   \n",
       "CI_high  10.824409  5.405040  5.924526  6.045080  1.958548    6.692874   \n",
       "std       9.569975  4.394362  5.335718  5.440054  1.772153    6.153590   \n",
       "\n",
       "         3rd quart1  min2      max2     mean2  ...    stdev5  1st quart5  \\\n",
       "CI_low     4.412103   0.0  4.696349  1.432853  ...  0.828155    4.951536   \n",
       "CI_high    5.912338   0.0  5.463165  1.740340  ...  1.232952    7.366739   \n",
       "std        5.138925   0.0  5.062729  1.574164  ...  1.024898    6.096465   \n",
       "\n",
       "         3rd quart5      min6      max6     mean6   median6    stdev6  \\\n",
       "CI_low     4.535758  0.013125  2.261717  1.088287  1.018704  0.487440   \n",
       "CI_high    6.672400  0.091154  2.776781  1.241826  1.172491  0.553985   \n",
       "std        5.531720  0.045838  2.518921  1.154812  1.086474  0.517617   \n",
       "\n",
       "         1st quart6  3rd quart6  \n",
       "CI_low     0.704335    1.436098  \n",
       "CI_high    0.822102    1.634276  \n",
       "std        0.758584    1.523599  \n",
       "\n",
       "[3 rows x 42 columns]"
      ]
     },
     "execution_count": 9,
     "metadata": {},
     "output_type": "execute_result"
    }
   ],
   "source": [
    "# Bootstrap method.\n",
    "\n",
    "col_names = td_features.columns[:42]\n",
    "st_ci = {}\n",
    "\n",
    "# Calculate for the 90% confidence interval for standard deviation of each feature.\n",
    "for col in col_names:\n",
    "    tmp = (td_features[col],)\n",
    "    bt_ci = bootstrap(tmp, np.std, confidence_level=0.9, method='basic')\n",
    "    st_ci[col] = [bt_ci.confidence_interval[0], bt_ci.confidence_interval[1]]\n",
    "\n",
    "# Display the low and high of the confidence interval in dataframe.\n",
    "bts_table = pd.DataFrame(st_ci, index=['CI_low', 'CI_high'])\n",
    "# Add in a row with standard deviation as calculated from describe() function.\n",
    "bts_table.loc[2] = std_features\n",
    "bts_table.rename(index={2: 'std'}, inplace=True)\n",
    "bts_table"
   ]
  },
  {
   "cell_type": "markdown",
   "metadata": {},
   "source": [
    "<b>civ) Select three most important time-domain features.</b>"
   ]
  },
  {
   "cell_type": "code",
   "execution_count": 10,
   "metadata": {},
   "outputs": [
    {
     "name": "stdout",
     "output_type": "stream",
     "text": [
      "Ans: I think mean, median, and standard deviation are the best time-domain features because by comparing mean and median, we can estimate the skewness in the data and from standard deviation, we can understand how much the data varies from time series instance to another. In addition, according to Reference 2, one of the common features used for feature extraction in time series classification is distribution.\n"
     ]
    }
   ],
   "source": [
    "print(\"Ans: I think mean, median, and standard deviation are the best time-domain features because by comparing mean and median, we can estimate the skewness in the data and from standard deviation, we can understand how much the data varies from time series instance to another. In addition, according to Reference 2, one of the common features used for feature extraction in time series classification is distribution.\")"
   ]
  },
  {
   "cell_type": "code",
   "execution_count": 11,
   "metadata": {},
   "outputs": [
    {
     "data": {
      "image/png": "[encoded data removed]",
      "text/plain": [
       "<Figure size 1440x720 with 1 Axes>"
      ]
     },
     "metadata": {
      "needs_background": "light"
     },
     "output_type": "display_data"
    }
   ],
   "source": [
    "td_features_only = td_features.iloc[:, :42]\n",
    "plt.figure(figsize=(20,10))\n",
    "td_features_only.boxplot()\n",
    "plt.xticks(rotation =45)\n",
    "plt.show()"
   ]
  },
  {
   "cell_type": "markdown",
   "metadata": {},
   "source": [
    "<b>2. ISLR 3.7.4<br>\n",
    "A set of data (n=100 observations) containing single predictor and a quantitative response. Data is fitted to a linear regression model and a separate cubic regression, ie Y = β0 +β1X +β2X2 +β3X3 +ε.<br>\n",
    "a) Suppose true relationship between X and Y is linear. Consider training residual sum of squares (RSS) for linear regression, and also the training RSS for the cubic regression. Would one be lower than the other, the same, or not enough info to tell? Justify answer.</b>"
   ]
  },
  {
   "cell_type": "markdown",
   "metadata": {},
   "source": [
    "Ans: The training RSS for the <u>cubic regression</u> will be <u>lower</u> than or <u>close to the same</u> training RSS for the <u>linear regression</u>. RSS is the sum of residual squared  (y-yhat)^2, so it measures the fit of the model. The cubic regression may results in over-fitting in this case since the true relatinoship between X and Y is linear. This over-fitting may reduce the training RSS in the cubic regression, making it a better 'fit' for the training data. However, since we know that the true relationshhip between X and Y is linear, the extra fit provided by the cubic regression may not matter."
   ]
  },
  {
   "cell_type": "markdown",
   "metadata": {},
   "source": [
    "<b>b) Answer a) using test rather than training RSS.</b>"
   ]
  },
  {
   "cell_type": "markdown",
   "metadata": {},
   "source": [
    "Ans: The testing RSS for the <u>linear regression</u> will be <u>lower</u> than the testing RSS for the <u>cubic regression</u> because the cubic regression is over-fitting the data and will increase testing error because the true relationship is linear. Although the β coefficients (β2 and β3) can be low for the higher order terms (X2 and X3), the RSS of the testing will still be higher than the RSS from linear regression model as we know the true relationship is linear. "
   ]
  },
  {
   "cell_type": "markdown",
   "metadata": {},
   "source": [
    "<b>c) Suppose true relationship between X and Y is not linear, but we don't know how far it is from linear. Consider training RSS for linear regression and training RSS for cubic regression. Would one be lower than the other, the same or not enough info to tell? Justify answer.</b>"
   ]
  },
  {
   "cell_type": "markdown",
   "metadata": {},
   "source": [
    "Ans: The training RSS for <u>cubic regression</u> will be <u>lower</u> than the training RSS for the <u>linear regression</u> because a cubic regression is more flexible than a linear regression. For the training data, a more flexible model will yield a lower RSS."
   ]
  },
  {
   "cell_type": "markdown",
   "metadata": {},
   "source": [
    "<b>d) Answer c) using test rather than training RSS.</b>"
   ]
  },
  {
   "cell_type": "markdown",
   "metadata": {},
   "source": [
    "Ans: Since we don't know the true relationship between X and Y, there's really no way for us to determine whether the linear regression or the cubic regression will provide a better fit. If the true relationship is closer to linear than to a cubic regression, then the test RSS for linear regression will be lower than that of cubic. However, if the true relationship is of a higher degree polynomial, then the test RSS for cubic regression will be lower than that of linear. However, no such information is provided. Hence, we <u>need more information</u> on the true relationship of the data to determine whether one testing RSS will be lower than the other."
   ]
  },
  {
   "cell_type": "markdown",
   "metadata": {},
   "source": [
    "<b>References:<br></b>\n",
    "1. https://stats.stackexchange.com/questions/50807/features-for-time-series-classification\n",
    "2. https://medium.datadriveninvestor.com/time-series-classification-using-feature-extraction-16209570a22e\n",
    "3. https://docs.scipy.org/doc/scipy/reference/generated/scipy.stats.bootstrap.html"
   ]
  }
 ],
 "metadata": {
  "kernelspec": {
   "display_name": "Python 3 (ipykernel)",
   "language": "python",
   "name": "python3"
  },
  "language_info": {
   "codemirror_mode": {
    "name": "ipython",
    "version": 3
   },
   "file_extension": ".py",
   "mimetype": "text/x-python",
   "name": "python",
   "nbconvert_exporter": "python",
   "pygments_lexer": "ipython3",
   "version": "3.9.12"
  },
  "vscode": {
   "interpreter": {
    "hash": "ed12621cfa3a1d629653c3712088009904d6f938534f653a41010545e32c1ae5"
   }
  }
 },
 "nbformat": 4,
 "nbformat_minor": 2
}
